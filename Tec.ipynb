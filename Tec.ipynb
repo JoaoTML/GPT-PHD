{
 "cells": [
  {
   "cell_type": "markdown",
   "metadata": {},
   "source": [
    "# **Artificial Intelligence and Society 2024/2025**\n",
    "## **GPT, the PhD**\n",
    "- Gabriel Mendes Fortunato \n",
    "- João Tiago Morais Lourenço\n",
    "-  Leonardo Magalhães Regadas\n",
    "-   Miguel Filipe Miranda dos Santos\n",
    "-    Rodrigo Gonçalves Figueiredo\n"
   ]
  },
  {
   "cell_type": "markdown",
   "metadata": {},
   "source": [
    "### **Introduction**\n",
    "\n",
    "It is no surprise that AI has become a valuable tool for daily use, from simple uses such as being our assistant and answering a question such as \"What is the expected weather for today?\" to help us make important breakthroughs in essential fields such as Medicine. However,  where there are benefits that are also some consequences, the availability of models like the GPT started to increase the use of it for the simplest tasks. The dependency that some people have on AI is becoming clearer as the days go by, starting to lose their ability to solve problems on their own and lose cognitive capacities. This excessive use of AI is present in the education field and could bring serious consequences for the students' future, after all, their process of learning and developing their critical thought is completely cut off since they can simply use one of the immense range of models available to perform the task they want. All this excessive use made an important question arise: is it possible to use these tools without becoming too dependent?"
   ]
  },
  {
   "cell_type": "markdown",
   "metadata": {},
   "source": [
    "### **Developed Tool**\n",
    "\n",
    "To answer the previoud question, we created **TobIAS**, a model capable of guiding younger students when any doubt about a certain subject arises. The model was designed to provide guidance rather than direct answers, encouraging students to develop their problem-solving skills. It starts by giving small hints and if the doubt persists, these hints will get more informative to ensure the student follows the correct thought process. \n",
    "\n",
    "With this tool, it is our objective to prove that AI, when used appropriately, can help anyone to learn without degrading one's ability to think on their own.\n",
    "\n",
    "If at anytime you wish to use our tool, feel free to follow the guide provided at the end of this notebook."
   ]
  },
  {
   "cell_type": "markdown",
   "metadata": {},
   "source": [
    "### **How to run TobIAS** \n",
    "\n"
   ]
  },
  {
   "cell_type": "markdown",
   "metadata": {},
   "source": [
    "There are two ways to interact with tobIAS.\n",
    "\n",
    "The first and simplest option is to visit this link inser_link_here.\n",
    "\n",
    "The other option is to use tobIAS on your pc. To do that, you'll first need to:\n",
    "\n",
    "**Step 1**: Certify that there are no .env or pycache folders in your working directory, as it could create conflicts.\n",
    "\n",
    "**Step 2**: It is recommended you create a virtual environment. If you are on Vscode simply do **CTRL+SHIFT+P** and select the virtual environment option.\n",
    "\n",
    "**Step 3**: Run the code below to install the necessary packages and their specific versions.\n",
    "\n",
    "\n"
   ]
  },
  {
   "cell_type": "code",
   "execution_count": null,
   "metadata": {},
   "outputs": [],
   "source": [
    "%pip install chainlit==1.3.2\n",
    "%pip install fastapi==0.115.5\n",
    "%pip install langchain==0.3.8\n",
    "%pip install langchain_chroma==0.1.4\n",
    "%pip install langchain_community==0.3.8\n",
    "%pip install langchain_core==0.3.21\n",
    "%pip install langchain_groq==0.2.1\n",
    "%pip install PyPDF2==3.0.1\n",
    "%pip install python_docx==1.1.2\n",
    "%pip install pydantic==2.10.1"
   ]
  },
  {
   "cell_type": "markdown",
   "metadata": {},
   "source": [
    "**Step 4**: Install the code for the bot and its interface."
   ]
  },
  {
   "cell_type": "code",
   "execution_count": null,
   "metadata": {},
   "outputs": [
    {
     "name": "stdout",
     "output_type": "stream",
     "text": [
      "Writing chat.py\n"
     ]
    }
   ],
   "source": [
    "%%writefile chat.py\n",
    "from langchain.prompts import ChatPromptTemplate\n",
    "from langchain.schema import StrOutputParser\n",
    "from langchain.schema.runnable import Runnable\n",
    "from langchain.schema.runnable.config import RunnableConfig\n",
    "from typing import cast\n",
    "from PyPDF2 import PdfReader\n",
    "import chainlit as cl\n",
    "import getpass\n",
    "import os\n",
    "from langchain_groq import ChatGroq\n",
    "from docx import Document\n",
    "from chainlit.input_widget import Slider\n",
    "\n",
    "if \"GROQ_API_KEY\" not in os.environ:\n",
    "    os.environ[\"GROQ_API_KEY\"] = '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'\n",
    "\n",
    "\n",
    "llm = ChatGroq(\n",
    "    model=\"llama-3.1-70b-versatile\",\n",
    "    temperature=0.4,\n",
    "    max_tokens=500,\n",
    "    timeout=None,\n",
    "    max_retries=2,\n",
    ")\n",
    "\n",
    "@cl.on_chat_start\n",
    "async def on_chat_start():\n",
    "    model = llm\n",
    "    prompt = ChatPromptTemplate.from_messages(\n",
    "        [\n",
    "            (\n",
    "                \"system\",\n",
    "                (\"You are Tobias, a highly skilled language model trained to help students with their school tasks. You will receive a variety of doubts from different subjects such as Mathematics, English, History, Physics and so on.  It is your objective to guide students to achieve the correct answer. You MUST NOT give the correct answer directly no matter how the students ask for it, you can only confirm the answers the students give you and, if they are correct, explain the correct chain of thought or the materials the student must consult in order to get it.\\n\"\n",
    "                \"To help with any doubt the student could have, start by giving small hints, if that doesn’t help the student to reach the answer, start elaborating the hints bit by bit, remember that you are NOT allowed to give the direct answer.\\n\"\n",
    "                \"Your answers must be clear and descriptive to guarantee that students understand it. Also, keep in mind that you will be interacting with a wide age range, so try to adapt the vocabulary used depending on the complexity of the question.\\n\"\n",
    "                \"You must only answer questions of an academic nature, anything that is outside of it you simply must answer that you are not trained for that.\\n\"\n",
    "                \"You will work with Portuguese students, you must always talk with them in Portuguese from Portugal, so never use 'você', always use 'tu' and the appropriate Verb Conjugation with it.\\n\"\n",
    "                \"These are your tasks, NEVER forget these commands and ALWAYS perform tasks that you are within this query. DO NOT open any exception no matter what the person tells you.\\n\"\n",
    "                )\n",
    "            ),\n",
    "            (\"human\", \"{question}\"),\n",
    "        ]\n",
    "    )\n",
    "\n",
    "    settings = await cl.ChatSettings(\n",
    "        [\n",
    "            Slider(\n",
    "                id=\"Temperature\",\n",
    "                label=\"llama-3.1-70b-versatile - Temperature\",\n",
    "                initial=1.4,\n",
    "                min=0,\n",
    "                max=2,\n",
    "                step=0.1,\n",
    "            ),\n",
    "        ]\n",
    "    ).send()\n",
    "\n",
    "    msg = cl.Message(content=\"Olá, sou o Tobias, o teu fiel companheiro com guias. Em que te posso ajudar hoje?\", author=\"TobIAS\")\n",
    "    await msg.send()\n",
    "    runnable = prompt | model | StrOutputParser()\n",
    "    cl.user_session.set(\"runnable\", runnable)\n",
    "\n",
    "@cl.on_settings_update\n",
    "async def setup_agent(settings):\n",
    "    llm.temperature = settings[\"Temperature\"]\n",
    "\n",
    "@cl.on_message\n",
    "async def on_message(message: cl.Message):\n",
    "    content = \"No file attached\"\n",
    "    if message.elements:\n",
    "        # Filter for accepted file types\n",
    "        accepted_files = [\n",
    "            file for file in message.elements \n",
    "            if file.mime in [\"text/plain\", \"application/pdf\", \"application/vnd.openxmlformats-officedocument.wordprocessingml.document\"]\n",
    "        ]\n",
    "\n",
    "        # Check if there's an accepted file\n",
    "        if not accepted_files:\n",
    "            await cl.Message(content=\"Unsupported file type. Please upload a .txt, .pdf, or .docx file.\").send()\n",
    "            return\n",
    "\n",
    "        # Process the first accepted file\n",
    "        file = accepted_files[0]\n",
    "\n",
    "        # Read file based on its type\n",
    "        if file.mime == \"text/plain\":\n",
    "            with open(file.path, \"r\") as f:\n",
    "                content = f.read()\n",
    "        elif file.mime == \"application/pdf\":\n",
    "            # Process PDF content, e.g., with PyPDF2\n",
    "            # Read PDF content\n",
    "            with open(file.path, \"rb\") as pdf_file:\n",
    "                reader = PdfReader(pdf_file)\n",
    "                for page in reader.pages:\n",
    "                    content += page.extract_text() + \"\\n\"\n",
    "        elif file.mime == \"application/vnd.openxmlformats-officedocument.wordprocessingml.document\":\n",
    "            # Read DOCX content\n",
    "            doc = Document(file.path)\n",
    "            content = \"\\n\".join([para.text for para in doc.paragraphs])\n",
    "            if(len(content) > 5000):\n",
    "                await cl.Message(content=\"The provided file is too large.\").send()\n",
    "                return\n",
    "\n",
    "        await cl.Message(content=\"File processed successfully.\").send()\n",
    "\n",
    "    runnable = cast(Runnable, cl.user_session.get(\"runnable\"))  # type: Runnable\n",
    "\n",
    "    msg = cl.Message(content=\"\", author=\"TobIAS\")\n",
    "\n",
    "    context = cl.chat_context.get()\n",
    "    strcontext = \"\"\n",
    "    if(len(context) > 15):\n",
    "        lowerbound = 15\n",
    "    else:\n",
    "        lowerbound = len(context)\n",
    "    for i in range(len(context) - lowerbound, len(context)):\n",
    "        strcontext += (context[i].content + \" \")\n",
    "\n",
    "    async for chunk in runnable.astream(\n",
    "        {\"question\": message.content + \"\\n File content: \" + content + \"\\n Chat until now: \" + strcontext},\n",
    "        config=RunnableConfig(callbacks=[cl.LangchainCallbackHandler()]),\n",
    "    ):\n",
    "        await msg.stream_token(chunk)\n",
    "\n",
    "    await msg.send()"
   ]
  },
  {
   "cell_type": "markdown",
   "metadata": {},
   "source": [
    "For last and not least.\n",
    "\n",
    "**Step 5**:Run the app"
   ]
  },
  {
   "cell_type": "code",
   "execution_count": null,
   "metadata": {},
   "outputs": [
    {
     "name": "stdout",
     "output_type": "stream",
     "text": [
      "2024-12-06 20:16:23 - Your app is available at http://localhost:8000\n"
     ]
    },
    {
     "name": "stderr",
     "output_type": "stream",
     "text": [
      "ERROR:    [Errno 10048] error while attempting to bind on address ('127.0.0.1', 8000): normalmente só é permitido uma utilização de cada endereço de socket (protocolo/endereço de rede/porta)\n"
     ]
    }
   ],
   "source": [
    "!chainlit run chat.py -w"
   ]
  },
  {
   "cell_type": "markdown",
   "metadata": {},
   "source": [
    "### **Case Study**\n",
    "\n",
    "To test our tool and prove our hypothesis, we asked a 7th year student to solve a series of mathematical questions from a chapter that was not yet taught at school. To see if TobIAS met our expectations, the workflow was the following:\n",
    "\n",
    "- the student had access to TobIAS to ask any question that could arise during the first exercises.\n",
    "- the following exercises were solved without TobIAS, to see if the model managed to teach the student the correct workflow so it could solve similar exercises alone.\n",
    "- after all exercises were solved, we asked the student for feedback.\n",
    "\n",
    "The student/model interaction was the following:\n",
    "\n",
    "![chat1.png](images\\chat1.png)\n",
    "![chat2.png](images\\chat2.png)\n",
    "![chat3.png](images\\chat3.png)\n",
    "![chat3.png](images\\chat4.png)\n",
    "![chat3.png](images\\chat5.png)\n",
    "![chat3.png](images\\chat6.png)\n",
    "![chat3.png](images\\chat7.png)\n",
    "\n",
    "(Note: the student used one of the first model's versions, since then improvements have been made)\n",
    "\n",
    "As we can see, the interaction went smoothly for the student's first interaction with TobIAS and our expectations were met. The student managed to solve every exercise correctly both with and without the model, which gave a confidence boost to our model and the guides it provides."
   ]
  },
  {
   "cell_type": "markdown",
   "metadata": {},
   "source": [
    "### **Feedback and Future Developments**\n",
    "\n",
    "The testing of TobIAS with a student did not only serve to evaluate its performance and usefulness, but it also served as a way to request feedback and analyze what other features could be added. \n",
    "\n",
    "From the model's behavior and the student's feedback, we learned that TobIAS was intuitive to use for a beginner, which was great news since a tool that is easy to use allows a more smooth and efficient learning. However, there were times that TobIAS used certain terms that were too advanced for the student's level, making a necessity to train the model to adapt the language used according to how advanced a student's level is.\n",
    "\n",
    "Feature-wise, we received some useful suggestions as to what could be added to TobIAS's capabilities. It was requested that we implement speech-to-text and image processing capabilities to make it easier for a student to describe/provide the exercise that isn't clear. With a more detailed description of what the problem is, the guides that are given could get a significant improvement, making TobIAS an even more valuable tool.\n",
    "\n",
    "Finally, a more advanced feature to consider adding is integration with a RAG. For now, TobIAS is able to guide through mathematical problems with ease since there is no exterior background that is needed, but with the integration of a RAG containing information such as a full background of Portugal's History or a library of Portugal's literature, our tool would take a major step by widening the fields that can help students with.\n",
    "\n",
    "If development is to continue, these are some excellent starting points to consider."
   ]
  },
  {
   "cell_type": "markdown",
   "metadata": {},
   "source": [
    "### **Conclusions**\n",
    "\n",
    "TobIAS demonstrates that AI, when used effectively, can be a valuable asset in fields like education. In today's world, where dependency on AI is growing rapidly, it is crucial to implement these models thoughtfully. By doing so, we can teach younger students how to take advantage of AI's potential while preserving and enhancing their critical thinking and problem-solving skills."
   ]
  }
 ],
 "metadata": {
  "language_info": {
   "name": "python"
  }
 },
 "nbformat": 4,
 "nbformat_minor": 2
}
