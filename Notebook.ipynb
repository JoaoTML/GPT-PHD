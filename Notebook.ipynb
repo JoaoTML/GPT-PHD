{
 "cells": [
  {
   "cell_type": "markdown",
   "metadata": {},
   "source": [
    "# **Artificial Intelligence and Society 2024/2025**\n",
    "## **GPT, the PhD**\n",
    "- Gabriel Mendes Fortunato \n",
    "- João Tiago Morais Lourenço\n",
    "-  Leonardo Magalhães Regadas\n",
    "-   Miguel Filipe Miranda dos Santos\n",
    "-    Rodrigo Gonçalves Figueiredo\n"
   ]
  },
  {
   "cell_type": "markdown",
   "metadata": {},
   "source": [
    "### **Introduction**\n",
    "\n",
    "It is no surprise that AI has become a valuable tool for daily use, from simple uses such as being our assistant and answering a question such as \"What is the expected weather for today?\" to help us make important breakthroughs in essential fields such as Medicine. However,  where there are benefits that are also some consequences, the availability of models like the GPT started to increase the use of it for the simplest tasks. The dependency that some people have on AI is becoming clearer as the days go by, starting to lose their ability to solve problems on their own and lose cognitive capacities. This excessive use of AI is present in the education field and could bring serious consequences for the students' future, after all, their process of learning and developing their critical thought is completely cut off since they can simply use one of the immense range of models available to perform the task they want. All this excessive use made an important question arise: is it possible to use these tools without becoming too dependent?"
   ]
  },
  {
   "cell_type": "markdown",
   "metadata": {},
   "source": [
    "### **Developed Tool**\n",
    "\n",
    "To answer the previoud question, we created **TobIAS**, a model capable of guiding younger students when any doubt about a certain subject arises. The model was designed to provide guidance rather than direct answers, encouraging students to develop their problem-solving skills. It starts by giving small hints and if the doubt persists, these hints will get more informative to ensure the student follows the correct thought process. \n",
    "\n",
    "With this tool, it is our objective to prove that AI, when used appropriately, can help anyone to learn without degrading one's ability to think on their own.\n",
    "\n",
    "If at anytime you wish to use our tool, feel free to follow the guide provided at the end of this notebook."
   ]
  },
  {
   "cell_type": "markdown",
   "metadata": {},
   "source": [
    "### **Case Study**\n",
    "\n",
    "To test our tool and prove our hypothesis, we asked a 7th year student to solve a series of mathematical questions from a chapter that was not yet taught at school. To see if TobIAS met our expectations, the workflow was the following:\n",
    "\n",
    "- the student had access to TobIAS to ask any question that could arise during the first exercises.\n",
    "- the following exercises were solved without TobIAS, to see if the model managed to teach the student the correct workflow so it could solve similar exercises alone.\n",
    "- after all exercises were solved, we asked the student for feedback.\n",
    "\n",
    "The student/model interaction was the following:\n",
    "\n",
    "![chat1.png](images\\chat1.png)\n",
    "![chat2.png](images\\chat2.png)\n",
    "![chat3.png](images\\chat3.png)\n",
    "![chat3.png](images\\chat4.png)\n",
    "![chat3.png](images\\chat5.png)\n",
    "![chat3.png](images\\chat6.png)\n",
    "![chat3.png](images\\chat7.png)\n",
    "\n",
    "(Note: the student used one of the first model's versions, since then improvements have been made)\n",
    "\n",
    "As we can see, the interaction went smoothly for the student's first interaction with TobIAS and our expectations were met. The student managed to solve every exercise correctly both with and without the model, which gave a confidence boost to our model and the guides it provides."
   ]
  },
  {
   "cell_type": "markdown",
   "metadata": {},
   "source": [
    "### **Feedback and Future Developments**\n",
    "\n",
    "The testing of TobIAS with a student did not only serve to evaluate its performance and usefulness, but it also served as a way to request feedback and analyze what other features could be added. \n",
    "\n",
    "From the model's behavior and the student's feedback, we learned that TobIAS was intuitive to use for a beginner, which was great news since a tool that is easy to use allows a more smooth and efficient learning. However, there were times that TobIAS used certain terms that were too advanced for the student's level, making a necessity to train the model to adapt the language used according to how advanced a student's level is.\n",
    "\n",
    "Feature-wise, we received some useful suggestions as to what could be added to TobIAS's capabilities. It was requested that we implement speech-to-text and image processing capabilities to make it easier for a student to describe/provide the exercise that isn't clear. With a more detailed description of what the problem is, the guides that are given could get a significant improvement, making TobIAS an even more valuable tool.\n",
    "\n",
    "Finally, a more advanced feature to consider adding is integration with a RAG. For now, TobIAS is able to guide through mathematical problems with ease since there is no exterior background that is needed, but with the integration of a RAG containing information such as a full background of Portugal's History or a library of Portugal's literature, our tool would take a major step by widening the fields that can help students with.\n",
    "\n",
    "If development is to continue, these are some excellent starting points to consider."
   ]
  },
  {
   "cell_type": "markdown",
   "metadata": {},
   "source": [
    "### **Conclusions**\n",
    "\n",
    "TobIAS demonstrates that AI, when used effectively, can be a valuable asset in fields like education. In today's world, where dependency on AI is growing rapidly, it is crucial to implement these models thoughtfully. By doing so, we can teach younger students how to take advantage of AI's potential while preserving and enhancing their critical thinking and problem-solving skills."
   ]
  },
  {
   "cell_type": "markdown",
   "metadata": {},
   "source": [
    "### **How to Run TobIAS...**\n",
    "\n",
    "#### **...locally?**\n",
    "\n",
    "**Step 1**: Certify that there are no **.env** or **pycache** folders in your working directory, as it could create conflicts.\n",
    "\n",
    "**Step 2**: It is recommended you create a virtual environment. If you are on Vscode simply do **CTRL+SHIFT+P** and select the virtual environment option.\n",
    "\n",
    "**Step 3**: It should ask to select a dependency file, select the **requirements.txt**. If it doesn't ask for it, then run the command  **pip install -r requirements.txt** before you go to the next step.\n",
    "\n",
    "**Step 4**: Run the command **chainlit run app.py -w** in the terminal. It should ask for a Groq API key, you can use the one below. After the key is inserted, a web page with the tool's chat should open on your browser.\n",
    "\n",
    "**Step 5**: Enjoy our tool.\n",
    "\n",
    "\n",
    "#### **...online?**\n",
    "\n",
    "**Step 1**: First create a account on [render](https://render.com/).\n",
    "\n",
    "**Step 2**: After that chose the **Web Services** option and chose [this github repository](https://github.com/JoaoTML/GPT-PHD).\n",
    "\n",
    "**Step 3**: In the settings, on the start command put **uvicorn runner:app --host 0.0.0.0 --port 80**.\n",
    "\n",
    "**Step 4**: Then go to the enviroment variables and put the **GROP_API_KEY** variable and the respective value.\n",
    "\n",
    "**Groq API key**: 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\n"
   ]
  }
 ],
 "metadata": {
  "language_info": {
   "name": "python"
  }
 },
 "nbformat": 4,
 "nbformat_minor": 2
}
