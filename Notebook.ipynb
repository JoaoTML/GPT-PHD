{
 "cells": [
  {
   "cell_type": "markdown",
   "metadata": {},
   "source": [
    "# **Artificial Intelligence and Society 2024/2025**\n",
    "## **GPT, the PhD**\n",
    "- Gabriel Mendes Fortunato \n",
    "- João Tiago Morais Lourenço\n",
    "-  Leonardo Magalhães Regadas\n",
    "-   Miguel Filipe Miranda dos Santos\n",
    "-    Rodrigo Gonçalves Figueiredo\n"
   ]
  },
  {
   "cell_type": "markdown",
   "metadata": {},
   "source": [
    "### **Introduction**\n",
    "\n",
    "It is no surprise that AI has become a valuable tool for daily use, from simple uses such as being our assistant and answering a question such as \"What is the expected weather for today?\" to help us make important breakthroughs in essential fields such as Medicine. However,  where there are benefits that are also some consequences, the availability of models like the GPT started to increase the use of it for the simplest tasks. The dependency that some people have on AI is becoming clearer as the days go by, starting to lose their ability to solve problems on their own and lose cognitive capacities. This excessive use of AI is present in the education field and could bring serious consequences for the students' future, after all, their process of learning and developing their critical thought is completely cut off since they can simply use one of the immense range of models available to perform the task they want. All this excessive use made an important question arise: is it possible to use these tools without becoming too dependent?\n",
    "\n",
    "To answer this question, we trained a model to guide any student when any doubt about a certain subject arises. The model will give hints that will get more informative if the doubts persist to ensure the students follow the appropriate thought process, but will never give the correct answer unless when it is given by the student. It is our objective then to prove that AI, when correctly used, can help anyone to learn without degrading one's ability to think on their own."
   ]
  },
  {
   "cell_type": "markdown",
   "metadata": {},
   "source": [
    "### **Setup**\n",
    "\n",
    "#### **How to run locally**\n",
    "\n",
    "**Step 1**: Certify that there are no **.env** or **pycache** folders in your working directory, as it could create conflicts.\n",
    "\n",
    "**Step 2**: It is recommended you create a virtual environment. If you are on Vscode simply do **CTRL+SHIFT+P** and select the virtual environment option.\n",
    "\n",
    "**Step 3**: It should ask to select a dependency file, select the **requirements.txt**. If it doesn't ask for it, then run the command  **pip install -r requirements.txt** before you go to the next step.\n",
    "\n",
    "**Step 4**: Run the command **chainlit run app.py -w** in the terminal. It should ask for a Groq API key, you can use the one below. After the key is inserted, a web page with the tool's chat should open on your browser.\n",
    "\n",
    "**Step 5**: Enjoy our tool.\n",
    "\n",
    "\n",
    "#### **How to put online**\n",
    "\n",
    "**Step 1**: First create a account on [render](https://render.com/).\n",
    "\n",
    "**Step 2**: After that chose the **Web Services** option and chose [this github](https://github.com/JoaoTML/GPT-PHD)\n",
    "\n",
    "**Step 3**: In the settings, on the start command put **uvicorn runner:app --host 0.0.0.0 --port 80**\n",
    "\n",
    "**Step 4**: Then go to the enviroment variables and put the **GROP_API_KEY** variable and the respective value.\n",
    "\n",
    "**Groq API key**: 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\n"
   ]
  },
  {
   "cell_type": "markdown",
   "metadata": {},
   "source": [
    "### **Case Studies**\n",
    "\n",
    "To test our tool and prove our hypothesis, 3 persons from different education levels were asked to solve a series of Mathematical questions. Each one was presented with a set of exercises to solve and access to our model to aid with any question, then we gave a similar set of exercises but the person would now have to solve them alone in order for us to see if our tool was able to help with the learning process.\n",
    "\n",
    "After both sets of exercises were solved, feedback was requested to help us improve the model.\n",
    "\n",
    "-  resolver exercicio com modelo\n",
    "-  \"resolver\" semalhante sem modelo\n",
    "-  feedback"
   ]
  },
  {
   "cell_type": "markdown",
   "metadata": {},
   "source": [
    "#### **Middle School(7th Year)**\n"
   ]
  },
  {
   "cell_type": "markdown",
   "metadata": {},
   "source": [
    "### **Conclusions**"
   ]
  }
 ],
 "metadata": {
  "language_info": {
   "name": "python"
  }
 },
 "nbformat": 4,
 "nbformat_minor": 2
}
